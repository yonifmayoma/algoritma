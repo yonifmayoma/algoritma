{
 "cells": [
  {
   "cell_type": "code",
   "execution_count": 1,
   "metadata": {},
   "outputs": [
    {
     "name": "stdout",
     "output_type": "stream",
     "text": [
      "apakah kamu lulus?[ya/tidak]:tidak\n",
      "kamu harus ikut remidi\n"
     ]
    }
   ],
   "source": [
    "#if\n",
    "\n",
    "lulus=input(\"apakah kamu lulus?[ya/tidak]:\")\n",
    "\n",
    "if lulus==\"tidak\":\n",
    "    print(\"kamu harus ikut remidi\")"
   ]
  },
  {
   "cell_type": "code",
   "execution_count": 2,
   "metadata": {},
   "outputs": [
    {
     "name": "stdout",
     "output_type": "stream",
     "text": [
      "apakah kamu lulus?[ya/tidak]:ya\n"
     ]
    }
   ],
   "source": [
    "#if\n",
    "\n",
    "lulus=input(\"apakah kamu lulus?[ya/tidak]:\")\n",
    "\n",
    "if lulus==\"tidak\":\n",
    "    print(\"kamu harus ikut remidi\")"
   ]
  },
  {
   "cell_type": "code",
   "execution_count": 3,
   "metadata": {},
   "outputs": [
    {
     "name": "stdout",
     "output_type": "stream",
     "text": [
      "input usia 17\n",
      "anda tidak boleh menonton\n"
     ]
    }
   ],
   "source": [
    "#if/else\n",
    "\n",
    "umur=int(input(\"input usia \"))\n",
    "\n",
    "if umur >=18:\n",
    "    print(\"silahkan menonton\")\n",
    "else:\n",
    "    print(\"anda tidak boleh menonton\")"
   ]
  },
  {
   "cell_type": "code",
   "execution_count": 4,
   "metadata": {},
   "outputs": [
    {
     "name": "stdout",
     "output_type": "stream",
     "text": [
      "inputkan nilaimu:65\n",
      "grade= C\n"
     ]
    }
   ],
   "source": [
    "#IF/ELIF/ELSE\n",
    "\n",
    "nilai = int(input(\"inputkan nilaimu:\"))\n",
    "\n",
    "if nilai >=81:\n",
    "    grade=\"A\"\n",
    "elif nilai >=69:\n",
    "    grade=\"B\"\n",
    "elif nilai >= 60:\n",
    "    grade=\"C\"\n",
    "elif nilai >= 49:\n",
    "    grade=\"D\"\n",
    "else:\n",
    "    grade=\"E\"\n",
    "    \n",
    "print(\"grade=\", grade)"
   ]
  },
  {
   "cell_type": "code",
   "execution_count": null,
   "metadata": {},
   "outputs": [],
   "source": []
  }
 ],
 "metadata": {
  "kernelspec": {
   "display_name": "Python 3",
   "language": "python",
   "name": "python3"
  },
  "language_info": {
   "codemirror_mode": {
    "name": "ipython",
    "version": 3
   },
   "file_extension": ".py",
   "mimetype": "text/x-python",
   "name": "python",
   "nbconvert_exporter": "python",
   "pygments_lexer": "ipython3",
   "version": "3.8.3"
  }
 },
 "nbformat": 4,
 "nbformat_minor": 4
}
