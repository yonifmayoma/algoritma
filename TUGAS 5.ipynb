{
 "cells": [
  {
   "cell_type": "code",
   "execution_count": 2,
   "metadata": {},
   "outputs": [
    {
     "name": "stdout",
     "output_type": "stream",
     "text": [
      "I like programming\n",
      "Because I proud to make something new\n"
     ]
    }
   ],
   "source": [
    "# mayoma\n",
    "# MEMBUAT FUNGSI\n",
    "\n",
    "def fungsi_1(): # FUNGSI 1\n",
    "    print (\"Because I proud to make something new\")\n",
    "def fungsi_2(): # FUNGSI 2\n",
    "    print (\"I like programming\")\n",
    "    \n",
    "# PEMANGGILAN FUNGSI\n",
    "fungsi_2()\n",
    "# PEMANGGILAN FUNGSI\n",
    "fungsi_1()"
   ]
  },
  {
   "cell_type": "code",
   "execution_count": 3,
   "metadata": {},
   "outputs": [
    {
     "name": "stdout",
     "output_type": "stream",
     "text": [
      "Nama saya adalah mayoma yonif\n",
      "Perkenalkan nama saya adalah  mayoma yonif dari DIV TEKNIK INFORMATIKA\n",
      "Luas persegi panjang adalah  9.0\n"
     ]
    }
   ],
   "source": [
    "#mayoma\n",
    "# FUNGSI DAN PARAMETER\n",
    "\n",
    "def fungsi_1():\n",
    "    nama=input(\"Nama saya adalah \")\n",
    "    print (\"Perkenalkan nama saya adalah \" ,nama, \"dari DIV TEKNIK INFORMATIKA\")\n",
    "    \n",
    "def luas_persegipanjang(panjang, lebar): # MEMBUAT FUNGSI DUA PARAMETER\n",
    "    luas = (panjang * lebar) / 2\n",
    "    print (\"Luas persegi panjang adalah \", luas);\n",
    "    \n",
    "# PEMANGGILAN FUNGSI\n",
    "fungsi_1()\n",
    "luas_persegipanjang(3, 6)"
   ]
  },
  {
   "cell_type": "code",
   "execution_count": 4,
   "metadata": {},
   "outputs": [
    {
     "name": "stdout",
     "output_type": "stream",
     "text": [
      "masukkan nilai panjang 2\n",
      "masukkan nilai lebar 7\n",
      "Luas Persegi Panjang adalah 14\n",
      "masukkan nilai panjang balok 3\n",
      "masukkan nilai lebar balok 4\n",
      "masukkan nilai tinggi balok 5\n",
      "Volume Balok adalah 60\n"
     ]
    }
   ],
   "source": [
    "#mayoma\n",
    "# FUNGSI RETURN\n",
    "\n",
    "def luas_persegipanjang():\n",
    "    panjang = int(input(\"masukkan nilai panjang \"))\n",
    "    lebar = int(input(\"masukkan nilai lebar \"))\n",
    "    luas = panjang * lebar\n",
    "    return luas\n",
    "\n",
    "def volume_balok():\n",
    "    panjang = int(input(\"masukkan nilai panjang balok \"))\n",
    "    lebar = int(input(\"masukkan nilai lebar balok \"))\n",
    "    tinggi = int(input(\"masukkan nilai tinggi balok \"))\n",
    "    volume = panjang * lebar * tinggi\n",
    "    return volume\n",
    "\n",
    "# PEMANGGILAN FUNGSI\n",
    "print(\"Luas Persegi Panjang adalah\" ,luas_persegipanjang())\n",
    "print(\"Volume Balok adalah\" ,volume_balok())"
   ]
  },
  {
   "cell_type": "code",
   "execution_count": 5,
   "metadata": {},
   "outputs": [
    {
     "name": "stdout",
     "output_type": "stream",
     "text": [
      "Masukkan angka pertama 3\n",
      "Masukkan angka kedua 6\n",
      "3 sama dengan 6 adalah False\n",
      "Masukkan angka pertama 6\n",
      "Masukkan angka kedua 3\n",
      "6 lebih besar dari 3 adalah True\n"
     ]
    }
   ],
   "source": [
    "#mayoma\n",
    "#INPUT\n",
    "\n",
    "def fungsi_operator1():\n",
    "    angka_1 = int(input(\"Masukkan angka pertama \"))\n",
    "    angka_2 = int(input(\"Masukkan angka kedua \"))\n",
    "    operator1 = angka_1==angka_2\n",
    "    print (angka_1, \"sama dengan\" ,angka_2, \"adalah\" ,operator1)\n",
    "    \n",
    "def fungsi_operator2():\n",
    "    angka_1 = int(input(\"Masukkan angka pertama \"))\n",
    "    angka_2 = int(input(\"Masukkan angka kedua \"))\n",
    "    operator2 = angka_1>=angka_2\n",
    "    print (angka_1, \"lebih besar dari\" ,angka_2, \"adalah\" ,operator2)\n",
    "    \n",
    "# PEMANGGILAN FUNGSI\n",
    "fungsi_operator1()\n",
    "fungsi_operator2()"
   ]
  },
  {
   "cell_type": "code",
   "execution_count": null,
   "metadata": {},
   "outputs": [],
   "source": []
  }
 ],
 "metadata": {
  "kernelspec": {
   "display_name": "Python 3",
   "language": "python",
   "name": "python3"
  },
  "language_info": {
   "codemirror_mode": {
    "name": "ipython",
    "version": 3
   },
   "file_extension": ".py",
   "mimetype": "text/x-python",
   "name": "python",
   "nbconvert_exporter": "python",
   "pygments_lexer": "ipython3",
   "version": "3.8.3"
  }
 },
 "nbformat": 4,
 "nbformat_minor": 4
}
