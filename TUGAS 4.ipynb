{
 "cells": [
  {
   "cell_type": "code",
   "execution_count": 1,
   "metadata": {},
   "outputs": [
    {
     "name": "stdout",
     "output_type": "stream",
     "text": [
      "Hasil 6 + 3 = 9\n",
      "Hasil 6 - 3 = 3\n",
      "Hasil 6 * 3 = 18\n",
      "Hasil 6 / 3 = 2.0\n",
      "Hasil 6 % 3 = 0\n",
      "Hasil 6 ** 3 = 216\n"
     ]
    }
   ],
   "source": [
    "# OPERATOR ARITMATIKA\n",
    "\n",
    "a = 6\n",
    "b = 3\n",
    "\n",
    "#menggunakan operator penjumlahan\n",
    "c = a + b\n",
    "print (\"Hasil\", a, \"+\" ,b, \"=\", c)\n",
    "\n",
    "#menggunakan operator pengurangan\n",
    "d = a - b\n",
    "print (\"Hasil\", a, \"-\" ,b, \"=\", d)\n",
    "\n",
    "#menggunakan operator perkalian\n",
    "e = a * b\n",
    "print (\"Hasil\", a, \"*\" ,b, \"=\", e)\n",
    "\n",
    "#menggunakan operator pembagian\n",
    "f = a / b\n",
    "print (\"Hasil\", a, \"/\" ,b, \"=\", f)\n",
    "\n",
    "#menggunakan operator sisa bagi\n",
    "g = a % b\n",
    "print (\"Hasil\", a, \"%\" ,b, \"=\", g)\n",
    "\n",
    "#menggunakan operator pemangkatan\n",
    "h = a ** b\n",
    "print (\"Hasil\", a, \"**\" ,b, \"=\", h)"
   ]
  },
  {
   "cell_type": "code",
   "execution_count": 2,
   "metadata": {},
   "outputs": [
    {
     "name": "stdout",
     "output_type": "stream",
     "text": [
      "Hasil 6 + 3 = 9\n",
      "Hasil 6 - 3 = 3\n",
      "Hasil 6 * 3 = 18\n",
      "Hasil 6 / 3 = 2.0\n",
      "Hasil 6 % 3 = 0\n",
      "Hasil 6 ** 3 = 216\n",
      "9\n",
      "Hasil dari 5 x 6 = 9\n",
      "8\n",
      "4.0\n",
      "Hasil dari 8 : 2 = 4.0\n",
      "8\n",
      "0\n",
      "Hasil dari 8 % 2 = 0 'sisa bagi'\n",
      "7\n",
      "49\n",
      "Hasil dari 7^2 = 49 'pangkat'\n"
     ]
    }
   ],
   "source": [
    "# OPERATOR ARITMATIKA\n",
    "\n",
    "a = 6\n",
    "b = 3\n",
    "\n",
    "#menggunakan operator penjumlahan\n",
    "c = a + b\n",
    "print (\"Hasil\", a, \"+\" ,b, \"=\", c)\n",
    "\n",
    "#menggunakan operator pengurangan\n",
    "d = a - b\n",
    "print (\"Hasil\", a, \"-\" ,b, \"=\", d)\n",
    "\n",
    "#menggunakan operator perkalian\n",
    "e = a * b\n",
    "print (\"Hasil\", a, \"*\" ,b, \"=\", e)\n",
    "\n",
    "#menggunakan operator pembagian\n",
    "f = a / b\n",
    "print (\"Hasil\", a, \"/\" ,b, \"=\", f)\n",
    "\n",
    "#menggunakan operator sisa bagi\n",
    "g = a % b\n",
    "print (\"Hasil\", a, \"%\" ,b, \"=\", g)\n",
    "\n",
    "#menggunakan operator pemangkatan\n",
    "h = a ** b\n",
    "print (\"Hasil\", a, \"**\" ,b, \"=\", h)\n",
    "\n",
    "#Setelah nilai a dikalikan 6, tampilkan isinya\n",
    "print (c)\n",
    "print (\"Hasil dari 5 x 6 =\", c)\n",
    "\n",
    "\n",
    "d = 8 #contoh operator penugasan untuk mengisi nilai\n",
    "print (d)\n",
    "d /= 2 #bagikan nilai a dengan operator penugasan untuk membagikan\n",
    "\n",
    "#Setelah nilai a dibagikan 2, tampilkan isinya\n",
    "print (d)\n",
    "print (\"Hasil dari 8 : 2 =\", d)\n",
    "\n",
    "\n",
    "e = 8 #contoh operator penugasan untuk mengisi nilai\n",
    "print (e)\n",
    "e %= 2 #menggunakan operator penugasan untuk sisa bagi\n",
    "\n",
    "#Setelah nilai a disisa bagikan 2, tampilkan isinya\n",
    "print (e)\n",
    "print (\"Hasil dari 8 % 2 =\", e, \"'sisa bagi'\")\n",
    "\n",
    "\n",
    "f = 7 #contoh operator penugasan untuk mengisi nilai\n",
    "print (f)\n",
    "f **= 2 #pangkatkan nilai a dengan operator penugasan untuk mempangkatkan\n",
    "\n",
    "#Setelah nilai a dipangkatkan 2, tampilkan isinya\n",
    "print (f)\n",
    "print (\"Hasil dari 7^2 =\", f, \"'pangkat'\")"
   ]
  },
  {
   "cell_type": "code",
   "execution_count": 3,
   "metadata": {},
   "outputs": [
    {
     "name": "stdout",
     "output_type": "stream",
     "text": [
      "Apakah a lebih besar dari b: True\n",
      "Apakah a lebih kecil dari b: False\n",
      "Apakah a sama dengan dari: b False\n",
      "Apakah a tidak sama dengan b: True\n",
      "Apakah a lebih besar sama dengan b: True\n",
      "Apakah a lebih kecil sama dengan b: False\n"
     ]
    }
   ],
   "source": [
    "# OPERATOR PEMBANDING\n",
    "\n",
    "a = 19\n",
    "b = 9\n",
    "\n",
    "#apakah a lebih besar dari b?\n",
    "c = a > b\n",
    "print (\"Apakah a lebih besar dari b:\", c)\n",
    "\n",
    "#apakah a lebih kecil dari b?\n",
    "d = a < b\n",
    "print (\"Apakah a lebih kecil dari b:\", d)\n",
    "\n",
    "#apakah a sama dengan b?\n",
    "e = a == b\n",
    "print (\"Apakah a sama dengan dari: b\", e)\n",
    "\n",
    "#apakah a tidak sama dengan b?\n",
    "f = a != b\n",
    "print (\"Apakah a tidak sama dengan b:\", f)\n",
    "\n",
    "#apakah a lebih besar sama dengan b?\n",
    "g = a >= b\n",
    "print (\"Apakah a lebih besar sama dengan b:\", g)\n",
    "\n",
    "#apakah a lebih kecil sama dengan b?\n",
    "h = a <= b\n",
    "print (\"Apakah a lebih kecil sama dengan b:\", h)"
   ]
  },
  {
   "cell_type": "code",
   "execution_count": 4,
   "metadata": {},
   "outputs": [
    {
     "name": "stdout",
     "output_type": "stream",
     "text": [
      "False\n",
      "True\n",
      "False\n"
     ]
    }
   ],
   "source": [
    "# OPERATOR LOGIKA\n",
    "\n",
    "a = True\n",
    "b = False\n",
    "\n",
    "# Logika AND\n",
    "c = a and b\n",
    "print (c)\n",
    "\n",
    "# Logika OR\n",
    "d = a or b\n",
    "print (d)\n",
    "\n",
    "# Negasi / Kebalikan\n",
    "e = not True\n",
    "print (e)"
   ]
  },
  {
   "cell_type": "code",
   "execution_count": 5,
   "metadata": {},
   "outputs": [
    {
     "name": "stdout",
     "output_type": "stream",
     "text": [
      "Masukkan nama bayi : YOHANES SIAO\n",
      "Masukkan berat badan bayi (kg) : 2.8\n",
      "Hello YOHANES SIAO berat badan mu adalah 2.8 KG, atau berat badan mu adalah 28.0 ONS dan dalam 1 bulan kemudian, berat badan mu menjadi 58.0 ONS\n"
     ]
    }
   ],
   "source": [
    "# INPUT OUTPUT\n",
    "\n",
    "#mengambil input\n",
    "nama_bayi = input (\"Masukkan nama bayi : \")\n",
    "berat_badan = float (input(\"Masukkan berat badan bayi (kg) : \"))\n",
    "\n",
    "#menampilkan proses\n",
    "ons = berat_badan * 10\n",
    "berat_1bulan = ons + 30\n",
    "\n",
    "#menampilkan output\n",
    "print (\"Hello\", nama_bayi, \"berat badan mu adalah\", berat_badan, \"KG,\", \"atau berat badan mu adalah\", ons, \"ONS\", \"dan dalam 1 bulan kemudian, berat badan mu menjadi\", berat_1bulan, \"ONS\")"
   ]
  },
  {
   "cell_type": "code",
   "execution_count": null,
   "metadata": {},
   "outputs": [],
   "source": []
  }
 ],
 "metadata": {
  "kernelspec": {
   "display_name": "Python 3",
   "language": "python",
   "name": "python3"
  },
  "language_info": {
   "codemirror_mode": {
    "name": "ipython",
    "version": 3
   },
   "file_extension": ".py",
   "mimetype": "text/x-python",
   "name": "python",
   "nbconvert_exporter": "python",
   "pygments_lexer": "ipython3",
   "version": "3.8.3"
  }
 },
 "nbformat": 4,
 "nbformat_minor": 4
}
