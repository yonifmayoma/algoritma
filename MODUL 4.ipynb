{
 "cells": [
  {
   "cell_type": "code",
   "execution_count": 1,
   "metadata": {},
   "outputs": [
    {
     "name": "stdout",
     "output_type": "stream",
     "text": [
      "hasil 8 + 9 = 17\n",
      "hasil 8 - 9 = -1\n"
     ]
    }
   ],
   "source": [
    "#OPERATOR ARITMATIKA\n",
    "\n",
    "a=8\n",
    "b=9\n",
    "\n",
    "# menggunakan operator penjumlahan\n",
    "c=a+b\n",
    "print(\"hasil\",a,\"+\",b,\"=\",c)\n",
    "\n",
    "# operator pengurangan\n",
    "d=a-b\n",
    "print(\"hasil\",a,\"-\",b,\"=\",d)\n"
   ]
  },
  {
   "cell_type": "code",
   "execution_count": 2,
   "metadata": {},
   "outputs": [
    {
     "name": "stdout",
     "output_type": "stream",
     "text": [
      "10\n",
      "15\n"
     ]
    }
   ],
   "source": [
    "a=10 #contoh operator penugasan untuk mengisi nilai\n",
    "print(a)\n",
    "\n",
    "a+=5 #jumlahkan nilai a dengan operator penugasan untuk menjumlahkan\n",
    "\n",
    "# setelah nilai a ditambah 5, tampilkan isinya\n",
    "print (a)"
   ]
  },
  {
   "cell_type": "code",
   "execution_count": 3,
   "metadata": {},
   "outputs": [
    {
     "name": "stdout",
     "output_type": "stream",
     "text": [
      "apakah a sama dengan b: False\n",
      "apakah a lebih besar dari b: True\n"
     ]
    }
   ],
   "source": [
    "#operator pembanding\n",
    "\n",
    "a=10\n",
    "b=5\n",
    "\n",
    "#opakah a sama dengan b ?\n",
    "c=a==b\n",
    "print(\"apakah a sama dengan b:\",c)\n",
    "\n",
    "#apakah a lebih besar dari b?\n",
    "d=a>b\n",
    "print(\"apakah a lebih besar dari b:\",d)"
   ]
  },
  {
   "cell_type": "code",
   "execution_count": 4,
   "metadata": {},
   "outputs": [
    {
     "name": "stdout",
     "output_type": "stream",
     "text": [
      "False\n"
     ]
    }
   ],
   "source": [
    "#operator logika\n",
    "\n",
    "a=True\n",
    "b=False\n",
    "\n",
    "#logika AND\n",
    "c=a and b\n",
    "print(c)\n"
   ]
  },
  {
   "cell_type": "code",
   "execution_count": 5,
   "metadata": {},
   "outputs": [
    {
     "name": "stdout",
     "output_type": "stream",
     "text": [
      "4\n"
     ]
    }
   ],
   "source": [
    "#operasi Bitwise\n",
    "\n",
    "a=4\n",
    "b=5\n",
    "c=a&b\n",
    "print(c)\n",
    "\n",
    "#a =    00111100\n",
    "#b =    00001101\n",
    "#a&b =  00001100"
   ]
  },
  {
   "cell_type": "code",
   "execution_count": 6,
   "metadata": {},
   "outputs": [
    {
     "name": "stdout",
     "output_type": "stream",
     "text": [
      "dewasa\n"
     ]
    }
   ],
   "source": [
    "#operasi ternary\n",
    "\n",
    "umur=17\n",
    "aku=\"bocah\"if umur < 10 else \"dewasa\"\n",
    "print (aku)"
   ]
  },
  {
   "cell_type": "code",
   "execution_count": 12,
   "metadata": {},
   "outputs": [
    {
     "name": "stdout",
     "output_type": "stream",
     "text": [
      "Nama kamu siapa ? yonif\n",
      "Berapa umur kamu ? 21\n",
      "Hello yonif umur kamu 3 tahun lagi adalah 24 tahun\n"
     ]
    }
   ],
   "source": [
    "#menampilkan output\n",
    "\n",
    "#mengambil input\n",
    "name=input (\"Nama kamu siapa ? \")\n",
    "age=int (input(\"Berapa umur kamu ? \"))\n",
    "\n",
    "age_3years=age+3\n",
    "\n",
    "#menampilkan output\n",
    "print(\"Hello\", name, \"umur kamu 3 tahun lagi adalah\", age_3years,\"tahun\")"
   ]
  },
  {
   "cell_type": "code",
   "execution_count": 11,
   "metadata": {},
   "outputs": [
    {
     "name": "stdout",
     "output_type": "stream",
     "text": [
      "Nama kamu siapa ? \n",
      "Berapa umur kamu ? \n"
     ]
    },
    {
     "ename": "TypeError",
     "evalue": "can only concatenate str (not \"int\") to str",
     "output_type": "error",
     "traceback": [
      "\u001b[1;31m---------------------------------------------------------------------------\u001b[0m",
      "\u001b[1;31mTypeError\u001b[0m                                 Traceback (most recent call last)",
      "\u001b[1;32m<ipython-input-11-b58e1a1eb4df>\u001b[0m in \u001b[0;36m<module>\u001b[1;34m\u001b[0m\n\u001b[0;32m      5\u001b[0m \u001b[0mage\u001b[0m\u001b[1;33m=\u001b[0m\u001b[0minput\u001b[0m\u001b[1;33m(\u001b[0m\u001b[1;34m\"Berapa umur kamu ? \"\u001b[0m\u001b[1;33m)\u001b[0m\u001b[1;33m\u001b[0m\u001b[1;33m\u001b[0m\u001b[0m\n\u001b[0;32m      6\u001b[0m \u001b[1;33m\u001b[0m\u001b[0m\n\u001b[1;32m----> 7\u001b[1;33m \u001b[0mage_3years\u001b[0m\u001b[1;33m=\u001b[0m\u001b[0mage\u001b[0m\u001b[1;33m+\u001b[0m\u001b[1;36m3\u001b[0m\u001b[1;33m\u001b[0m\u001b[1;33m\u001b[0m\u001b[0m\n\u001b[0m\u001b[0;32m      8\u001b[0m \u001b[1;33m\u001b[0m\u001b[0m\n\u001b[0;32m      9\u001b[0m \u001b[1;31m#menampilkan output\u001b[0m\u001b[1;33m\u001b[0m\u001b[1;33m\u001b[0m\u001b[1;33m\u001b[0m\u001b[0m\n",
      "\u001b[1;31mTypeError\u001b[0m: can only concatenate str (not \"int\") to str"
     ]
    }
   ],
   "source": [
    "#menampilkan output\n",
    "\n",
    "#mengambil input\n",
    "name=input (\"Nama kamu siapa ? \")\n",
    "age=input(\"Berapa umur kamu ? \")\n",
    "\n",
    "age_3years=age+3\n",
    "\n",
    "#menampilkan output\n",
    "print(\"Hello\", name, \"umur kamu 3 tahun lagi adalah\", age_3years,\"tahun\")"
   ]
  },
  {
   "cell_type": "code",
   "execution_count": null,
   "metadata": {},
   "outputs": [],
   "source": []
  }
 ],
 "metadata": {
  "kernelspec": {
   "display_name": "Python 3",
   "language": "python",
   "name": "python3"
  },
  "language_info": {
   "codemirror_mode": {
    "name": "ipython",
    "version": 3
   },
   "file_extension": ".py",
   "mimetype": "text/x-python",
   "name": "python",
   "nbconvert_exporter": "python",
   "pygments_lexer": "ipython3",
   "version": "3.8.3"
  }
 },
 "nbformat": 4,
 "nbformat_minor": 4
}
