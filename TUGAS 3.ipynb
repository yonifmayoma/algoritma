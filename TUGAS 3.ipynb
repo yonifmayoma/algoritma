{
 "cells": [
  {
   "cell_type": "code",
   "execution_count": 1,
   "metadata": {},
   "outputs": [
    {
     "name": "stdout",
     "output_type": "stream",
     "text": [
      "69\n"
     ]
    },
    {
     "ename": "NameError",
     "evalue": "name 'Var' is not defined",
     "output_type": "error",
     "traceback": [
      "\u001b[1;31m---------------------------------------------------------------------------\u001b[0m",
      "\u001b[1;31mNameError\u001b[0m                                 Traceback (most recent call last)",
      "\u001b[1;32m<ipython-input-1-bab356622d10>\u001b[0m in \u001b[0;36m<module>\u001b[1;34m\u001b[0m\n\u001b[0;32m      2\u001b[0m \u001b[0mprint\u001b[0m \u001b[1;33m(\u001b[0m\u001b[0mVar\u001b[0m\u001b[1;33m)\u001b[0m\u001b[1;33m\u001b[0m\u001b[1;33m\u001b[0m\u001b[0m\n\u001b[0;32m      3\u001b[0m \u001b[1;32mdel\u001b[0m \u001b[1;33m(\u001b[0m\u001b[0mVar\u001b[0m\u001b[1;33m)\u001b[0m\u001b[1;33m\u001b[0m\u001b[1;33m\u001b[0m\u001b[0m\n\u001b[1;32m----> 4\u001b[1;33m \u001b[0mprint\u001b[0m \u001b[1;33m(\u001b[0m\u001b[0mVar\u001b[0m\u001b[1;33m)\u001b[0m\u001b[1;33m\u001b[0m\u001b[1;33m\u001b[0m\u001b[0m\n\u001b[0m",
      "\u001b[1;31mNameError\u001b[0m: name 'Var' is not defined"
     ]
    }
   ],
   "source": [
    "Var = 69\n",
    "print (Var)\n",
    "del (Var)\n",
    "print (Var)"
   ]
  },
  {
   "cell_type": "code",
   "execution_count": 2,
   "metadata": {},
   "outputs": [
    {
     "name": "stdout",
     "output_type": "stream",
     "text": [
      "Jari Jari Lingkaran 50 cm\n",
      "phi :  3.14 cm\n",
      "Keliling Lingkaran sama dengan 314 cm\n"
     ]
    }
   ],
   "source": [
    "r = 50 #tipe data integer\n",
    "phi = 3.14 #tipe data float\n",
    "k = 2*phi*r\n",
    "print (\"Jari Jari Lingkaran\" ,int(r), \"cm\")\n",
    "print (\"phi : \",float(phi), \"cm\")\n",
    "print (\"Keliling Lingkaran sama dengan\" ,int(k),\"cm\")"
   ]
  },
  {
   "cell_type": "code",
   "execution_count": 3,
   "metadata": {},
   "outputs": [
    {
     "name": "stdout",
     "output_type": "stream",
     "text": [
      "True\n"
     ]
    }
   ],
   "source": [
    "x = 20 > 19\n",
    "print (x)"
   ]
  },
  {
   "cell_type": "code",
   "execution_count": 4,
   "metadata": {},
   "outputs": [
    {
     "name": "stdout",
     "output_type": "stream",
     "text": [
      "False\n"
     ]
    }
   ],
   "source": [
    "x = 20 < 19\n",
    "print (x)"
   ]
  },
  {
   "cell_type": "code",
   "execution_count": 5,
   "metadata": {},
   "outputs": [
    {
     "name": "stdout",
     "output_type": "stream",
     "text": [
      "64.0\n",
      "0b1000000\n",
      "0x40\n"
     ]
    }
   ],
   "source": [
    "var = 64\n",
    "print (float(var)) #tipe data float\n",
    "print (bin(var)) #tipe data binner\n",
    "print (hex(var)) #tipe data hexadecimal"
   ]
  },
  {
   "cell_type": "code",
   "execution_count": 6,
   "metadata": {},
   "outputs": [
    {
     "name": "stdout",
     "output_type": "stream",
     "text": [
      "Biodata Mahasiswa\n",
      "Nama Mahasiswa :  Mayoma Yonif\n",
      "NIM :  20090111\n",
      "\n",
      "Selamat Kepada Mayoma Yonif Menjadi Mahasiswa Terbaik Semester 1\n",
      "Dengan Nilai IPK 3.85\n"
     ]
    },
    {
     "ename": "NameError",
     "evalue": "name 'IPK' is not defined",
     "output_type": "error",
     "traceback": [
      "\u001b[1;31m---------------------------------------------------------------------------\u001b[0m",
      "\u001b[1;31mNameError\u001b[0m                                 Traceback (most recent call last)",
      "\u001b[1;32m<ipython-input-6-5f6607766b46>\u001b[0m in \u001b[0;36m<module>\u001b[1;34m\u001b[0m\n\u001b[0;32m     13\u001b[0m \u001b[1;33m\u001b[0m\u001b[0m\n\u001b[0;32m     14\u001b[0m \u001b[1;32mdel\u001b[0m\u001b[1;33m(\u001b[0m\u001b[0mIPK\u001b[0m\u001b[1;33m)\u001b[0m\u001b[1;33m\u001b[0m\u001b[1;33m\u001b[0m\u001b[0m\n\u001b[1;32m---> 15\u001b[1;33m \u001b[0mprint\u001b[0m \u001b[1;33m(\u001b[0m\u001b[0mfloat\u001b[0m\u001b[1;33m(\u001b[0m\u001b[0mIPK\u001b[0m\u001b[1;33m)\u001b[0m\u001b[1;33m)\u001b[0m\u001b[1;33m\u001b[0m\u001b[1;33m\u001b[0m\u001b[0m\n\u001b[0m",
      "\u001b[1;31mNameError\u001b[0m: name 'IPK' is not defined"
     ]
    }
   ],
   "source": [
    "print (\"Biodata Mahasiswa\")\n",
    "\n",
    "Nama = \"Mayoma Yonif\"\n",
    "Nim = 20090111\n",
    "Semester = 1\n",
    "IPK = 3.85\n",
    "print (\"Nama Mahasiswa : \", str(Nama))\n",
    "print (\"NIM : \", str(Nim))\n",
    "\n",
    "print (\"\"\"\n",
    "Selamat Kepada\"\"\",str(Nama),\"Menjadi Mahasiswa Terbaik Semester\", int(Semester))\n",
    "print (\"Dengan Nilai IPK\",float(IPK))\n",
    "\n",
    "del(IPK)\n",
    "print (float(IPK))"
   ]
  },
  {
   "cell_type": "code",
   "execution_count": null,
   "metadata": {},
   "outputs": [],
   "source": []
  }
 ],
 "metadata": {
  "kernelspec": {
   "display_name": "Python 3",
   "language": "python",
   "name": "python3"
  },
  "language_info": {
   "codemirror_mode": {
    "name": "ipython",
    "version": 3
   },
   "file_extension": ".py",
   "mimetype": "text/x-python",
   "name": "python",
   "nbconvert_exporter": "python",
   "pygments_lexer": "ipython3",
   "version": "3.8.3"
  }
 },
 "nbformat": 4,
 "nbformat_minor": 4
}
