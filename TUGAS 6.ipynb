{
 "cells": [
  {
   "cell_type": "code",
   "execution_count": 1,
   "metadata": {},
   "outputs": [
    {
     "name": "stdout",
     "output_type": "stream",
     "text": [
      "Berapa nilai kamu? 65\n",
      "kamu harus ikut remidi\n"
     ]
    }
   ],
   "source": [
    "nilai = int(input(\"Berapa nilai kamu? \"))\n",
    "            \n",
    "if nilai <70:\n",
    "    print (\"kamu harus ikut remidi\")"
   ]
  },
  {
   "cell_type": "code",
   "execution_count": 2,
   "metadata": {},
   "outputs": [
    {
     "name": "stdout",
     "output_type": "stream",
     "text": [
      "Berapa nilai kamu? 95\n"
     ]
    }
   ],
   "source": [
    "nilai = int(input(\"Berapa nilai kamu? \"))\n",
    "            \n",
    "if nilai <70:\n",
    "    print (\"kamu harus ikut remidi\")"
   ]
  },
  {
   "cell_type": "code",
   "execution_count": 3,
   "metadata": {},
   "outputs": [
    {
     "name": "stdout",
     "output_type": "stream",
     "text": [
      "masukan nilai rad12\n",
      "nilai luas lingkaran adalah 452.15999999999997\n",
      "lingkaran ini besar\n"
     ]
    }
   ],
   "source": [
    "rad = int(input(\"masukan nilai rad\"))\n",
    "L_lingkaran = 3.14*rad*rad\n",
    "print (\"nilai luas lingkaran adalah\",L_lingkaran)\n",
    "if L_lingkaran > 314 :\n",
    "    print(\"lingkaran ini besar\")\n",
    "else:\n",
    "    print (\"lingkaran ini kecil\")"
   ]
  },
  {
   "cell_type": "code",
   "execution_count": 4,
   "metadata": {},
   "outputs": [
    {
     "name": "stdout",
     "output_type": "stream",
     "text": [
      "Masukkan nomor program yang dipilih 1\n",
      "Masukkan nilai panjang 4\n",
      "Masukkan nilai lebar 5\n",
      "Masukkan nilai tinggi 6\n",
      "volume balok adalah 120\n"
     ]
    }
   ],
   "source": [
    "#mayoma\n",
    "#elif\n",
    "\n",
    "program = int(input(\"Masukkan nomor program yang dipilih \"))\n",
    "    \n",
    "def volume_balok(): #memanggil fungsi volume balok\n",
    "    panjang = int(input(\"Masukkan nilai panjang \"))\n",
    "    lebar = int(input(\"Masukkan nilai lebar \"))\n",
    "    tinggi = int(input(\"Masukkan nilai tinggi \"))\n",
    "    v_balok = panjang * lebar * tinggi\n",
    "    print (\"volume balok adalah\" ,v_balok)\n",
    "    \n",
    "def volume_kubus(): #memanggil fungsi volume kubus\n",
    "    s = int(input(\"Masukkan nilai sisi \"))\n",
    "    v_kubus = sisi * sisi * sisi\n",
    "    print (\"Volume kubus adalah\" ,v_kubus)\n",
    "    \n",
    "    \n",
    "if program == 1:\n",
    "    volume_balok()\n",
    "elif program == 2:\n",
    "    volume_kubus()\n",
    "else :\n",
    "    print (\"program tidak tersedia \")"
   ]
  },
  {
   "cell_type": "code",
   "execution_count": 6,
   "metadata": {},
   "outputs": [
    {
     "name": "stdout",
     "output_type": "stream",
     "text": [
      "Masukkan nomor program yang dipilih 2\n",
      "Masukkan nilai sisi 6\n",
      "Volume kubus adalah 216\n"
     ]
    }
   ],
   "source": [
    "program = int(input(\"Masukkan nomor program yang dipilih \"))\n",
    "    \n",
    "def volume_balok(): #memanggil fungsi volume balok\n",
    "    panjang = int(input(\"Masukkan nilai panjang \"))\n",
    "    lebar = int(input(\"Masukkan nilai lebar \"))\n",
    "    tinggi = int(input(\"Masukkan nilai tinggi \"))\n",
    "    v_balok = panjang * lebar * tinggi\n",
    "    print (\"volume balok adalah\" ,v_balok)\n",
    "    \n",
    "def volume_kubus(): #memanggil fungsi volume kubus\n",
    "    sisi = int(input(\"Masukkan nilai sisi \"))\n",
    "    v_kubus = sisi * sisi * sisi\n",
    "    print (\"Volume kubus adalah\" ,v_kubus)\n",
    "    \n",
    "    \n",
    "if program == 1:\n",
    "    volume_balok()\n",
    "elif program == 2:\n",
    "    volume_kubus()\n",
    "else :\n",
    "    print (\"program tidak tersedia \")"
   ]
  },
  {
   "cell_type": "code",
   "execution_count": null,
   "metadata": {},
   "outputs": [],
   "source": []
  }
 ],
 "metadata": {
  "kernelspec": {
   "display_name": "Python 3",
   "language": "python",
   "name": "python3"
  },
  "language_info": {
   "codemirror_mode": {
    "name": "ipython",
    "version": 3
   },
   "file_extension": ".py",
   "mimetype": "text/x-python",
   "name": "python",
   "nbconvert_exporter": "python",
   "pygments_lexer": "ipython3",
   "version": "3.8.3"
  }
 },
 "nbformat": 4,
 "nbformat_minor": 4
}
