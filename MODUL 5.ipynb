{
 "cells": [
  {
   "cell_type": "code",
   "execution_count": 1,
   "metadata": {},
   "outputs": [
    {
     "name": "stdout",
     "output_type": "stream",
     "text": [
      "hi, my name is Najama Pangeswati\n"
     ]
    }
   ],
   "source": [
    "#MEMBUAT FUNGSI\n",
    "def biodata ():\n",
    "    print (\"hi, my name is Najama Pangeswati\")\n",
    "    \n",
    "##pemanggilan fungsi\n",
    "biodata()"
   ]
  },
  {
   "cell_type": "code",
   "execution_count": 4,
   "metadata": {},
   "outputs": [
    {
     "name": "stdout",
     "output_type": "stream",
     "text": [
      "Hi, my nae is Najama Pangeswati\n",
      "Hi, my nae is Najama Pangeswati\n",
      "Hi, my nae is Najama Pangeswati\n"
     ]
    }
   ],
   "source": [
    "#membuat fungsi 2\n",
    "def biodata ():\n",
    "    print(\"Hi, my nae is Najama Pangeswati\")\n",
    "    \n",
    "##pemanggilan fungsi\n",
    "biodata()\n",
    "biodata()\n",
    "biodata()"
   ]
  },
  {
   "cell_type": "code",
   "execution_count": 5,
   "metadata": {},
   "outputs": [
    {
     "name": "stdout",
     "output_type": "stream",
     "text": [
      "luas segitiga adalah 10.0\n"
     ]
    }
   ],
   "source": [
    "#fungsi satu parameter\n",
    "\n",
    "##membuat fungsi dengan 2 parameter\n",
    "def luas_segitiga(alas,tinggi):\n",
    "    luas=(alas*tinggi)/2\n",
    "    print(\"luas segitiga adalah\",luas);\n",
    "    \n",
    "##pemanggilan fungsi\n",
    "luas_segitiga(5,4)"
   ]
  },
  {
   "cell_type": "code",
   "execution_count": 6,
   "metadata": {},
   "outputs": [
    {
     "name": "stdout",
     "output_type": "stream",
     "text": [
      "luas persegi 36\n"
     ]
    }
   ],
   "source": [
    "#fungsi return\n",
    "\n",
    "def luas_persegi(sisi):\n",
    "    luas=sisi*sisi\n",
    "    return luas\n",
    "\n",
    "##pemanggilan fungsi\n",
    "print(\"luas persegi\",luas_persegi(6))"
   ]
  },
  {
   "cell_type": "code",
   "execution_count": 7,
   "metadata": {},
   "outputs": [
    {
     "name": "stdout",
     "output_type": "stream",
     "text": [
      "luas persegi 36\n",
      "volume kubus 125\n"
     ]
    }
   ],
   "source": [
    "# rumus :sisi*sisi\n",
    "def luas_persegi(sisi):\n",
    "    luas=sisi*sisi\n",
    "    return luas\n",
    "\n",
    "#rumus:sisixsisixsisi\n",
    "def volume_kubus (sisi):\n",
    "    volume=luas_persegi(sisi)*sisi\n",
    "    return volume\n",
    "\n",
    "print(\"luas persegi\",luas_persegi(6))\n",
    "print(\"volume kubus\",volume_kubus(5))"
   ]
  },
  {
   "cell_type": "code",
   "execution_count": 9,
   "metadata": {},
   "outputs": [
    {
     "name": "stdout",
     "output_type": "stream",
     "text": [
      "nama: python\n",
      "versi: 3.0.0\n",
      "nama: programku\n",
      "versi: aplikasi biodata\n"
     ]
    }
   ],
   "source": [
    "#membuat variabel global\n",
    "\n",
    "nama=\"python\"\n",
    "versi= \"3.0.0\"\n",
    "\n",
    "def tentang():\n",
    "    #ini variabel lokal\n",
    "    nama=\"programku\"\n",
    "    versi=\"aplikasi biodata\"\n",
    "    #mengakses variabel lokal\n",
    "    print(\"nama:\",nama)\n",
    "    print(\"versi:\",versi)\n",
    "    \n",
    "#mengakses variabel global\n",
    "print(\"nama:\",nama)\n",
    "print(\"versi:\",versi)\n",
    "    \n",
    "#memanggil fungsi help()\n",
    "tentang()"
   ]
  },
  {
   "cell_type": "code",
   "execution_count": 12,
   "metadata": {},
   "outputs": [
    {
     "name": "stdout",
     "output_type": "stream",
     "text": [
      "masukan nilai sisi 8\n",
      "luas persegi 64\n",
      "volume kubus 512\n"
     ]
    }
   ],
   "source": [
    "#mengambil input sisi dari keyboard\n",
    "sisi=int(input(\"masukan nilai sisi \"))\n",
    "\n",
    "#rumus:sisixsisi\n",
    "def luas_persegi():\n",
    "    #sisi=int(input(\"masukan nilai sisi\"))\n",
    "    luas=sisi*sisi\n",
    "    return luas\n",
    "\n",
    "#rumus:sisi x sisi x sisi\n",
    "def volume_kubus():\n",
    "    volume=luas_persegi()*sisi\n",
    "    return volume\n",
    "\n",
    "print(\"luas persegi \",luas_persegi())\n",
    "print(\"volume kubus \",volume_kubus())"
   ]
  },
  {
   "cell_type": "code",
   "execution_count": null,
   "metadata": {},
   "outputs": [],
   "source": []
  }
 ],
 "metadata": {
  "kernelspec": {
   "display_name": "Python 3",
   "language": "python",
   "name": "python3"
  },
  "language_info": {
   "codemirror_mode": {
    "name": "ipython",
    "version": 3
   },
   "file_extension": ".py",
   "mimetype": "text/x-python",
   "name": "python",
   "nbconvert_exporter": "python",
   "pygments_lexer": "ipython3",
   "version": "3.8.3"
  }
 },
 "nbformat": 4,
 "nbformat_minor": 4
}
